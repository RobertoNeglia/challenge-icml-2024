{
 "cells": [
  {
   "cell_type": "markdown",
   "metadata": {
    "collapsed": false
   },
   "source": [
    "\n",
    "# Simplicial Paths as Higher-Order Motifs\n",
    "\n",
    "A strong inductive bias for deep learning models is processing signals while respecting the local structure of their underlying space. Many real-world systems operate on asymmetric relational structures, leading to directed graph representations. However, most graph and topological models forcibly symmetrize these relationships, thereby losing critical information. While some graph neural networks have recently started incorporating **asymmetric** pairwise interactions, extending the topological deep learning (TDL) framework to account for asymmetric higher-order relationships remains unexplored.\n",
    "\n",
    "Recent studies have examined cascading dynamics on networks at the simplicial level [2]. In Topological Data Analysis (TDA), the use of topological tools to address questions in neuroscience has generated interest in constructing topological spaces from digraphs to better understand the phenomena they support [3].\n",
    "\n",
    "For this reason, we suggest using **maximal simplicial paths**, deerived from **directed graphs**, as cell of a **combinatorial complex**. Therefore, we are proposing a lifting **from directed graphs to combinatorial complexes**.\n",
    "\n",
    "Next, we provide an introduction to the fundamental concepts underlying our approach. For a more comprehensive exploration of these basics, we refer the reader to [1]. To the best of our knowledge, this is the first lifting taking into account an **higher-order notion of directionality** in defining cells, differently from, e.g., taking directly as cells the simplices of a directed flag complex (see below).\n",
    "\n",
    "## Complexes\n",
    "\n",
    "**Directed Graphs**\n",
    "\n",
    "A *directed graph* (digraph) is a pair $G = (V,E)$ of a finite set $V$ of vertices and $E \\subseteq [V]^2/\\Delta_V$ is a relation, where $\\Delta_V = \\{(v,v)|v \\in V\\}$. Note that the relation is not necessarily symmetric. Quotienting by $\\Delta_V$ we avoid loops on the graph, i.e., no edges $(v,v)$.\n",
    "\n",
    "**Abstract Simplicial Complexes**\n",
    "\n",
    "An *abstract simplicial complex* is a pair $K = (V, \\Sigma)$, where $V$ is a finite set of vertices, and $\\Sigma$ is a collection of subsets of $\\Sigma$ such that for all element $\\sigma \\in \\Sigma$, $\\tau \\subseteq \\sigma$ implies $\\tau \\in \\Sigma$. An element $\\sigma$ of $\\Sigma$ is an *abstract simplex* of $\\mathcal{K}$. It is a *k-simplex* if $|\\sigma| = k+1$. If $\\tau \\subseteq \\sigma \\in \\mathcal{K}$, then $\\tau$ is a face of $\\sigma$. If the dimension $\\tau$ is $\\dim(\\tau) = \\dim(\\sigma) - 1$, then it is a *facet* of $\\sigma$. The *dimension* $\\dim(\\mathcal{K})$ of $\\mathcal{K}$ is the maximal dimension of a simplex in $\\mathcal{K}$.\n",
    "\n",
    "There is a standard way of building an abstract simplicial complex from a graph.\n",
    "\n",
    "**Flag Complex**\n",
    "\n",
    "Given a graph $G$, its associated flag complex is the abstract simplicial complex whose $k$-simplices are formed by the $(k+1)$-cliques of the graph.\n",
    "\n",
    "The following are the natural generalization of flag complexes for digraphs.\n",
    "\n",
    "**Directed Flag Complex**\n",
    "\n",
    "An ordered $k$-clique of a directed graph $G$ is a totally ordered $k$-tuple $(v_1, \\dots, v_n)$ of vertices of $G$ with the property that $(v_i, v_{j}) \\in E$ for $i < j$. Given a digraph $G$, its directed flag complex is the abstract simplicial complex whose simplices are all the directed $(k+1)$-cliques.\n",
    "\n",
    "\n",
    "## Simplicial Paths\n",
    "\n",
    "**Edge paths on digraphs**\n",
    "\n",
    "A path on a digraph is a sequence $(v_0, v_1, \\dots, v_n)$ such that any consecutive pair $(v_i, v_{i+1}) \\in E$, moving from a source vertex to a sink vertex. Directed graphs support various directed edge paths.\n",
    "\n",
    "Directed cliques have an inherent directionality, which we exploit to extend the notion to higher-dimensional simplicial paths formed by sequences of simplices in the directed flag complex.\n",
    "\n",
    "We will impose the notion of direction via face maps.\n",
    "\n",
    "**Face maps**\n",
    "\n",
    "Face maps uniquely identify the faces of the simplex by omitting the $i$th-vertex. Let $\\sigma$ be an $n$-simplex. We denote by $\\hat{d}_i$ the face map\n",
    "\n",
    "$$\n",
    "\\hat{d}_i(\\sigma) =\n",
    "\\begin{cases}\n",
    "(v_0, \\ldots, \\hat{v}_i, \\ldots, v_n) & \\text{if } i < n, \\\\\n",
    "(v_0, \\ldots, v_{n-1}, \\hat{v}_n) & \\text{if } i \\geq n.\n",
    "\\end{cases}\n",
    "$$\n",
    "\n",
    "**Directed Q-Connectivity**\n",
    "\n",
    "For an ordered simplicial complex $K$, let $(\\sigma, \\tau)$ be an ordered pair of simplices $\\sigma \\in K_s$ and $\\tau \\in K_t$, where $s, t \\geq q$. Let $(\\hat{d}_i, \\hat{d}_j)$ be an ordered pair of the $ith$ and  $jth$ face maps. Then $(\\sigma, \\tau)$ is $q$-*near along* $(\\hat{d}_i, \\hat{d}_j)$ if either of the following conditions is true:\n",
    "\n",
    "1. $\\sigma \\leftrightarrow \\tau$,\n",
    "2. $\\hat{d}_i(\\sigma) \\leftrightarrow \\alpha \\leftrightarrow \\hat{d}_j(\\tau)$, for some $q$-simplex $\\alpha \\in K$.\n",
    "\n",
    "By closing the directed q-nearness transitively, the ordered pair $(\\sigma, \\tau)$ of simplices of $K$ is $q$-*connected along* $(\\hat{d}_i, \\hat{d}_j)$ if there is a sequence of simplices in $K$,\n",
    "\n",
    "$$\\sigma = \\alpha_0, \\alpha_1, \\alpha_2, \\ldots, \\alpha_n, \\alpha_{n+1} = \\tau,$$\n",
    "\n",
    "such that any two consecutive ones are $q$-*near along* $(\\hat{d}_i, \\hat{d}_j)$. The sequence of simplices is called a $q$-*connection* along $(\\hat{d}_i, \\hat{d}_j)$ between $\\sigma$ and $\\tau$ or $(q, \\hat{d}_i, \\hat{d}_j)$-*connection*, when the choices of $q$ and directions $\\hat{d}_i$ and $\\hat{d}_j$ are made. From now on we refer $(q, \\hat{d}_i, \\hat{d}_j)$ as $(q, i, j)$.\n",
    "\n",
    "*Theorem* The relation of being $(q,i,j)$-connected is a preorder on $\\Sigma_{\\geq q}$.\n",
    "\n",
    "**Directions and Simplicial Paths as Topological Information**\n",
    "\n",
    "Instead of focusing on the path structure of the digraph, we look at the path structure of the high-dimensional simplices by exploring the $q$-connectivity preorder.\n",
    "\n",
    "Different choices of $q,i,j$ allow to enphasize different features of directionality. For instance, $(1,0,2)$-connected paths of 2-simplices exhibit directed flows aligned with the directionality of the total order of the adjacent simplices. On the other hand, the $(1,1,2)$ preorder reveals circular flows around a source vertex\n",
    "\n",
    "<p align=\"center\">\n",
    "    <img src=\"./figures/sp.jpeg\" alt=\"Alt Text\" style=\"max-width: 50%; max-height: 50%;\">\n",
    "</p>\n",
    "\n",
    "The $(q, i, j)$-connections exhibit different homotopical information compared to the original complex arising from the structure of the digraph. The following two digraphs span a $2$-dimensional directed flag complex homotopic to the $2$-sphere, making them indistinguishable by homology. However, by examining the $(1,0,2)$ and $(1,1,2)$ preorders, we can homotopically distinguish these complexes. The $(1,1,2)$ preorder, in particular, allows us to identify circular flows in both the upper and lower hemispheres. Specifically, the first complex has a circular flow only in the upper hemisphere, whereas the second complex exhibits circular flows in both the upper and lower hemispheres.\n",
    "\n",
    "<p align=\"center\">\n",
    "    <img src=\"./figures/sph.jpeg\" alt=\"Alt Text\" style=\"max-width: 50%; max-height: 50%;\">\n",
    "</p>\n",
    "\n",
    "## References\n",
    "\n",
    "[1] Henri Riihïmaki. [Simplicial q-Connectivity of Directed Graphs with Applications to Network Analysis](https://arxiv.org/pdf/2202.07307).\n",
    "\n",
    "[2] Bengier Ulgen, Dane Taylor. [Simplicial cascades are orchestrated by the multidimensional geometry of neuronal complexes](https://arxiv.org/pdf/2201.02071).\n",
    "\n",
    "[3] Dane Taylor, Florian Klimm. [Topological data analysis of contagion maps for examining spreading processes on networks](https://arxiv.org/pdf/1408.1168)\n",
    "\n",
    "[4] D. Lütgehetmann, D. Govc, J.P. Smith, and R. Levi. [Computing persistent homology of directed flag complexes](https://arxiv.org/pdf/arXiv:1906.10458).\n"
   ]
  },
  {
   "cell_type": "markdown",
   "source": [
    "### Imports and utilities"
   ],
   "metadata": {
    "collapsed": false
   }
  },
  {
   "cell_type": "code",
   "execution_count": 2,
   "metadata": {
    "collapsed": false,
    "ExecuteTime": {
     "end_time": "2024-07-11T11:13:50.470928Z",
     "start_time": "2024-07-11T11:13:49.405484Z"
    }
   },
   "outputs": [
    {
     "name": "stdout",
     "output_type": "stream",
     "text": [
      "The autoreload extension is already loaded. To reload it, use:\n",
      "  %reload_ext autoreload\n"
     ]
    }
   ],
   "source": [
    "# With this cell any imported module is reloaded before each cell execution\n",
    "%load_ext autoreload\n",
    "%autoreload 2\n",
    "from modules.data.load.loaders import GraphLoader\n",
    "from modules.data.preprocess.preprocessor import PreProcessor\n",
    "from modules.utils.utils import (describe_data, load_dataset_config, load_model_config, load_transform_config, )"
   ]
  },
  {
   "cell_type": "markdown",
   "source": [
    "## Loading the Dataset"
   ],
   "metadata": {
    "collapsed": false
   }
  },
  {
   "cell_type": "code",
   "execution_count": 3,
   "metadata": {
    "ExecuteTime": {
     "end_time": "2024-07-11T11:13:53.028431Z",
     "start_time": "2024-07-11T11:13:52.981609Z"
    }
   },
   "outputs": [
    {
     "name": "stdout",
     "output_type": "stream",
     "text": [
      "\n",
      "Dataset configuration for cocitation_cora:\n",
      "\n",
      "{'data_domain': 'graph',\n",
      " 'data_type': 'cocitation',\n",
      " 'data_name': 'Cora',\n",
      " 'data_dir': 'datasets/graph/cocitation',\n",
      " 'num_features': 1433,\n",
      " 'num_classes': 7,\n",
      " 'task': 'classification',\n",
      " 'loss_type': 'cross_entropy',\n",
      " 'monitor_metric': 'accuracy',\n",
      " 'task_level': 'node'}\n"
     ]
    }
   ],
   "source": [
    "dataset_name = \"cocitation_cora\"\n",
    "dataset_config = load_dataset_config(dataset_name)\n",
    "loader = GraphLoader(dataset_config)"
   ]
  },
  {
   "cell_type": "code",
   "execution_count": 4,
   "metadata": {
    "ExecuteTime": {
     "end_time": "2024-07-11T11:13:53.954817Z",
     "start_time": "2024-07-11T11:13:53.885066Z"
    }
   },
   "outputs": [
    {
     "name": "stdout",
     "output_type": "stream",
     "text": [
      "\n",
      "Dataset only contains 1 sample:\n",
      " - Graph with 2708 vertices and 10556 edges.\n",
      " - Features dimensions: [1433, 0]\n",
      " - There are 0 isolated nodes.\n",
      "\n"
     ]
    }
   ],
   "source": [
    "dataset = loader.load()\n",
    "describe_data(dataset)"
   ]
  },
  {
   "cell_type": "code",
   "execution_count": 5,
   "metadata": {
    "ExecuteTime": {
     "end_time": "2024-07-11T11:13:55.034336Z",
     "start_time": "2024-07-11T11:13:54.996201Z"
    }
   },
   "outputs": [
    {
     "name": "stdout",
     "output_type": "stream",
     "text": [
      "\n",
      "Transform configuration for graph2combinatorial/sp_lifting:\n",
      "\n",
      "{'transform_type': 'lifting',\n",
      " 'transform_name': 'Graph2CombinatorialLifting',\n",
      " 'd1': 2,\n",
      " 'd2': 2,\n",
      " 'q': 1,\n",
      " 'i': 0,\n",
      " 'j': 2,\n",
      " 'complex_dim': 2,\n",
      " 'chunk_size': 1024,\n",
      " 'threshold': 1}\n"
     ]
    }
   ],
   "source": [
    "# Define transformation type and id\n",
    "transform_type = \"liftings\"\n",
    "# If the transform is a topological lifting, it should include both the type of the lifting and the identifier\n",
    "transform_id = \"graph2combinatorial/sp_lifting\"\n",
    "\n",
    "# Read yaml file\n",
    "transform_config = {\"lifting\": load_transform_config(transform_type, transform_id)\n",
    "    # other transforms (e.g. data manipulations, feature liftings) can be added here\n",
    "}"
   ]
  },
  {
   "cell_type": "code",
   "execution_count": 6,
   "metadata": {
    "ExecuteTime": {
     "end_time": "2024-07-11T11:13:55.805521Z",
     "start_time": "2024-07-11T11:13:55.741791Z"
    }
   },
   "outputs": [
    {
     "name": "stdout",
     "output_type": "stream",
     "text": [
      "Transform parameters are the same, using existing data_dir: /Users/manuellecha/PycharmProjects/challenge-icml-2024/datasets/graph/cocitation/Cora/lifting/3277604564\n",
      "\n",
      "Dataset only contains 1 sample:\n",
      " - Graph with 2708 vertices and 44 edges.\n",
      " - Features dimensions: [1433, 1433]\n",
      " - There are 0 isolated nodes.\n",
      "\n"
     ]
    }
   ],
   "source": [
    "lifted_dataset = PreProcessor(dataset, transform_config, loader.data_dir)\n",
    "describe_data(lifted_dataset)"
   ]
  },
  {
   "cell_type": "markdown",
   "metadata": {},
   "source": [
    "## Create and Run a NN Model"
   ]
  },
  {
   "cell_type": "markdown",
   "metadata": {},
   "source": [
    "In this section a simple model is created to test that the used lifting works as intended."
   ]
  },
  {
   "cell_type": "code",
   "execution_count": 7,
   "metadata": {
    "ExecuteTime": {
     "end_time": "2024-07-11T11:13:57.795642Z",
     "start_time": "2024-07-11T11:13:57.748943Z"
    }
   },
   "outputs": [],
   "source": [
    "from modules.models.combinatorial.spcc import SPCCNN\n",
    "\n",
    "model_type = \"combinatorial\"\n",
    "model_id = \"spccnn\"\n",
    "# model_config = load_model_config(model_type, model_id)\n",
    "n_nodes = dataset.x.shape[0]\n",
    "model = SPCCNN(channels_per_layer = [[[lifted_dataset.x.shape[1],lifted_dataset.x.shape[1]],[1,1]]], out_channels_0 = 1)"
   ]
  },
  {
   "cell_type": "code",
   "execution_count": 8,
   "metadata": {
    "ExecuteTime": {
     "end_time": "2024-07-11T11:13:58.766664Z",
     "start_time": "2024-07-11T11:13:58.696648Z"
    }
   },
   "outputs": [
    {
     "name": "stderr",
     "output_type": "stream",
     "text": [
      "/Users/manuellecha/miniconda3/lib/python3.10/site-packages/topomodelx/nn/combinatorial/hmc_layer.py:680: UserWarning: Sparse CSR tensor support is in beta state. If you miss a functionality in the sparse tensor support, please submit a feature request to https://github.com/pytorch/pytorch/issues. (Triggered internally at /Users/runner/work/_temp/anaconda/conda-bld/pytorch_1688195355927/work/aten/src/ATen/SparseCsrTensorImpl.cpp:55.)\n",
      "  A_p = torch.sparse.mm(A_p, neighborhood)\n"
     ]
    }
   ],
   "source": [
    "y_hat = model(lifted_dataset.get(0))"
   ]
  }
 ],
 "metadata": {
  "kernelspec": {
   "display_name": "Python 3 (ipykernel)",
   "language": "python",
   "name": "python3"
  },
  "language_info": {
   "codemirror_mode": {
    "name": "ipython",
    "version": 3
   },
   "file_extension": ".py",
   "mimetype": "text/x-python",
   "name": "python",
   "nbconvert_exporter": "python",
   "pygments_lexer": "ipython3",
   "version": "3.10.13"
  }
 },
 "nbformat": 4,
 "nbformat_minor": 2
}
