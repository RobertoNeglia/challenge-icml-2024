{
 "cells": [
  {
   "cell_type": "markdown",
   "source": [
    "# Simplicial Paths Lifting (Graph to Combinatorial)\n",
    "\n",
    "Many real-world systems have an asymmetric relational structure leading to directed graph representations, but most graph and topological models forcibly symmetrize these relationships. While some graph neural networks have recently begun integrating asymmetric pairwise interactions, extending the TDL machinery to account for asymmetric higher-order relationships remains unexplored.\n",
    "\n",
    "Digraphs naturally support various directed edge paths, but by definition, directed cliques have an inherent directionality imposed by their total order. Motivated by this fact, [44] extended the notion of q-connectivity to account for directionality and directed edge paths to simplicial paths formed by sequences of directed simplices.\n",
    "\n",
    "Directed flag complexes, which generalize flag complexes to digraphs, have become popular tools in applied topology for capturing finer topological information of these spaces. Digraphs naturally support various directed edge paths, while simplices, arising from directed cliques in the flag complex, inherently possess directionality due to their total order. We introduce preorders via user-chosen face maps that encode directions of high-order simplices inducing simplicial paths."
   ],
   "metadata": {
    "collapsed": false
   }
  },
  {
   "cell_type": "markdown",
   "source": [
    "## Background\n",
    "\n",
    "**Directed graphs** A *directed graph* (digraph) is a pair $G = (V,E)$ of a finite set $V$ of vertices and $E \\subseteq [V]^2/\\Delta_V$ is a relation, where $\\Delta_V = \\{(v,v)|v \\in V\\}$. Note that the relation is not necessarily symmetric. Quotienting by $\\Delta_V$ we avoid loops on the graph, i.e., no edges $(v,v)$.\n",
    "\n",
    "**Paths on digraphs** A path on a digraph is a sequence $(v_0, v_1, \\dots, v_n)$ such that any consecutive pair $(v_i, v_{i+1}) \\in E$.  Going from a *source* vertex to a *sink* vertex.\n",
    "\n",
    "**Abstract simplicial complexes** An *abstract simplicial complex* is a pair $K = (V, \\Sigma)$, where $V$ is a finite set of vertices, and $\\Sigma$ is a collection of subsets of $\\Sigma$ such that for all element $\\sigma \\in \\Sigma$, $\\tau \\subseteq \\sigma$ implies $\\tau \\in \\Sigma$. An element $\\sigma$ of $\\Sigma$ is an *abstract simplex* of $\\mathcal{K}$. It is a *k-simplex* if $|\\sigma| = k+1$. If $\\tau \\subseteq \\sigma \\in \\mathcal{K}$, then $\\tau$ is a face of $\\sigma$. If the dimension $\\tau$ is $\\dim(\\tau) = \\dim(\\sigma) - 1$, then it is a *facet* of $\\sigma$. The *dimension* $\\dim(\\mathcal{K})$ of $\\mathcal{K}$ is the maximal dimension of a simplex in $\\mathcal{K}$.\n",
    "\n",
    "**Flag complex** There is a standard way of building an abstract simplicial complex from a graph. Given a graph $G$, its associated flag complex is the abstract simplicial complex whose $k$-simplices are formed by the $(k+1)$-cliques of the graph. The construction is functorial.\n",
    "\n",
    "**Directed Flag Complex** We consider directed flag complexes, the natural generalization of flag complexes for digraphs. An ordered $k$-clique of a directed graph $G$ is a totally ordered $k$-tuple $(v_1, \\dots, v_n)$ of vertices of $G$ with the property that $(v_i, v_{j}) \\in E$ for $i < j$. Given a digraph $G$, its directed flag complex is the abstract simplicial complex whose simplices are all the directed $(k+1)$-cliques. This construction can be regarded is also functorial. If $\\phi: G_1 \\rightarrow G_2$ is a morphism of digraphs via sending ordered cliques of $G_1$ to ordered cliques of $G_2$, it induces a simplicial morphism $F_\\phi: dFl(G_1) \\rightarrow dFl(G_1)$ by sending each simplex $\\sigma \\in dFl(G_1)$, hence an ordered clique $(v_0,\\dots,v_k)$ of $G_1$, to the simplex $F_\\phi = (\\phi(v_0),\\dots,\\phi(v_k))$.\n",
    "\n",
    "Directions\n",
    "\n",
    "**Face maps** Face maps uniquely identify the faces of the simplex by suppressing the $i$th-vertex.\n",
    "\n",
    "Let $\\sigma$ be an $n$-simplex. We denote by $\\hat{d}_i$ the face map\n",
    "\n",
    "$$\n",
    "\\hat{d}_i(\\sigma) =\n",
    "\\begin{cases}\n",
    "(v_0, \\ldots, \\hat{v}_i, \\ldots, v_n) & \\text{if } i < n, \\\\\n",
    "(v_0, \\ldots, v_{n-1}, \\hat{v}_n) & \\text{if } i \\geq n.\n",
    "\\end{cases}\n",
    "$$\n",
    "\n",
    "\n",
    "We impose directions via the following face maps\n",
    "\n",
    "<img src=\"./figures/sphs.png\" alt=\"Alt Text\" width=\"50%\" height=\"50%\">\n",
    "\n",
    "\n",
    "\n",
    "For an ordered simplicial complex $K$, let $(\\sigma, \\tau)$ be an ordered pair of simplices $\\sigma \\in K_s$ and $\\tau \\in K_t$, where $s, t \\geq q$. Let $(\\hat{d}_i, \\hat{d}_j)$ be an ordered pair of the $ith$ and  $jth$ face maps. Then $(\\sigma, \\tau)$ is $q$-*near along* $(\\hat{d}_i, \\hat{d}_j)$ if either of the following conditions is true:\n",
    "\n",
    "1. $\\sigma \\leftrightarrow \\tau$,\n",
    "2. $\\hat{d}_i(\\sigma) \\leftrightarrow \\alpha \\leftrightarrow \\hat{d}_j(\\tau)$, for some $q$-simplex $\\alpha \\in K$.\n",
    "\n",
    "\n",
    "<img src=\"./figures/simplicial_path.png\" alt=\"Alt Text\" width=\"50%\" height=\"50%\">\n",
    "\n",
    "The ordered pair $(\\sigma, \\tau)$ of simplices of $K$ is $q$-*connected along* $(\\hat{d}_i, \\hat{d}_j)$ if there is a sequence of simplices in $K$,\n",
    "\n",
    "$$\\sigma = \\alpha_0, \\alpha_1, \\alpha_2, \\ldots, \\alpha_n, \\alpha_{n+1} = \\tau,$$\n",
    "\n",
    "such that any two consecutive ones are $q$-*near along* $(\\hat{d}_i, \\hat{d}_j)$. The sequence of simplices is called a $q$-*connection* along $(\\hat{d}_i, \\hat{d}_j)$ between $\\sigma$ and $\\tau$. We simply write this connection as $(\\sigma\\alpha_1\\alpha_2 \\ldots \\alpha_n\\tau)$. We will call the above connection $(q, \\hat{d}_i, \\hat{d}_j)$-*connection*, when the choices of $q$ and directions $\\hat{d}_i$ and $\\hat{d}_j$ are made, and similarly we say $(q, \\hat{d}_i, \\hat{d}_j)$-*near*. From now on we refer $(q, \\hat{d}_i, \\hat{d}_j)$ as $(q, i, j)$.\n",
    "\n",
    "**Theorem** The relation of being $(q,i,j)$-connected is a preorder on $\\Sigma_{\\geq q}$.\n",
    "\n",
    "\n",
    "\n",
    "Different choices of q,i,j allow to enphasize different features of directionality.\n",
    "\n",
    "$(1,0,2)$-connected paths of 2-simplices point from source to target vertices.\n",
    "\n",
    "On the other side, for example, $(1,1,2)$ reveal circular flows around a source vertex.\n",
    "\n",
    "The $(q,i,j)$-connections exhibit different homotopical information than the original complex arising from the structure of the digraph.\n",
    "\n",
    "The realization of the following digraphs is homotopy Homology cannot distinguish the geometric realization of the. However, choosing $(1,0,2)$ we are able to depict second order simplicial flows from $[0,1,2] \\rightarrow [1,2,3]$ and $[0,2,1] \\rightarrow [2,1,3]$. Also, $(1,1,2)$ depicts circular flows around vertices. In particular, we find circular flows on the upper and lower hemispheres. The first, just having a circular flow on the upper hemisphere, while the second in the upper and the lower.\n",
    "\n",
    "Distinct from q-analysis, in q-directed analysis, the topological information but rather from a collection of topological spaces arising from the $(q,i,j)$-preorders, which in turn, can be seen as a digraph by quotienting along elements connected by arrows of opposite direction, which are in bijection with finite $T_0$ topological spaces.\n",
    "\n",
    "This associates to a simplicial complex its generalized path components in a cannonical way as the connected components of the $q$-graph, captured the simplicial connections given the imposed directions.\n",
    "\n",
    "Preorders are in bijection with topological spaces with Alexandroff topologies. Applying directed q-connectivity preorders allows to assign new homotopy types to the directed flag complex.\n",
    "\n",
    "Instead of looking to the path structure of the digraph, we identify high-order motifs by exploring the path structure of high dimensional simplices in the q-digraph. This is the key idea behind the simplicial paths lifting.\n",
    "\n",
    "\n",
    "The homotopy types of a simplicial complex and its face poset agree. Therefore, the relational structure of the q-connections contains the homotopical information of the complex on this intuition, thus being more discriminative than simplicial homology.\n",
    "\n",
    "\n",
    "- Viewing the structure maps asa collection of digraphs, allows us for path searches\n",
    "\n",
    "\n",
    "*Example:*\n"
   ],
   "metadata": {
    "collapsed": false
   }
  },
  {
   "cell_type": "code",
   "execution_count": 1,
   "outputs": [],
   "source": [
    "\n"
   ],
   "metadata": {
    "collapsed": false,
    "ExecuteTime": {
     "end_time": "2024-07-09T16:00:56.856539Z",
     "start_time": "2024-07-09T16:00:56.853599Z"
    }
   }
  },
  {
   "cell_type": "markdown",
   "source": [
    "# TO DO\n",
    "\n",
    "1. Dataset Loading\n",
    "Implements the pipeline to load a dataset from the src domain. Since the challenge repository doesn’t allow storing large files, loaders must download datasets from external sources into the datasets/ folder.\n",
    "This pipeline is provided for several graph-based datasets. For any other src domain, participants are allowed to transform graph datasets into the corresponding domain through our provided lifting mappings –or just dropping their connectivity to get point-clouds.\n",
    "(Bonus) Designing a loader for a new dataset (ones that are not already provided in the tutorials) will be positively taken into consideration in the final evaluation.\n",
    "\n",
    "2. Pre-processing the Dataset\n",
    "Applies the lifting transform to the dataset.\n",
    "Needs to be done through the PreProcessor, which we provide in\n",
    "modules/io/preprocess/preprocessor.py.\n",
    "\n",
    "3. Running a Model over the Lifted Dataset\n",
    "Creates a Neural Network model that operates over the dst domain, leveraging TopoModelX for higher order topologies or torch_geometric for graphs.\n",
    "Runs the model on the lifted dataset."
   ],
   "metadata": {
    "collapsed": false
   }
  },
  {
   "cell_type": "code",
   "execution_count": null,
   "outputs": [],
   "source": [],
   "metadata": {
    "collapsed": false
   }
  },
  {
   "cell_type": "code",
   "execution_count": 1,
   "outputs": [],
   "source": [
    "import csv\n",
    "import time\n",
    "import torch\n",
    "import numpy as np\n",
    "import networkx as nx\n",
    "import scipy.sparse as sp\n",
    "import pyflagsercount as pfc\n",
    "import sys\n",
    "\n",
    "sys.path.append(\"../../\")\n",
    "from modules.transforms.liftings.graph2combinatorial.sp_lifting import (DirectedFlagComplex as dfc, )\n",
    "\n",
    "# from datasets.data_loading import get_dataset, get_dataset_split"
   ],
   "metadata": {
    "collapsed": false,
    "ExecuteTime": {
     "end_time": "2024-07-09T10:03:10.597795Z",
     "start_time": "2024-07-09T10:03:09.075091Z"
    }
   }
  },
  {
   "cell_type": "code",
   "execution_count": 2,
   "metadata": {
    "collapsed": false,
    "is_executing": true
   },
   "outputs": [],
   "source": [
    "# With this cell any imported module is reloaded before each cell execution\n",
    "%load_ext autoreload\n",
    "%autoreload 2\n",
    "from modules.data.load.loaders import GraphLoader\n",
    "from modules.data.preprocess.preprocessor import PreProcessor\n",
    "from modules.utils.utils import (describe_data, load_dataset_config, load_model_config, load_transform_config, )"
   ]
  },
  {
   "cell_type": "code",
   "execution_count": 3,
   "metadata": {},
   "outputs": [],
   "source": [
    "CHAMELEON = \"chameleon\"\n",
    "CORNELL = \"Cornell\"\n",
    "WISCONSIN = \"Wisconsin\"\n",
    "TEXAS = \"Texas\"\n",
    "ROMAN_EMPIRE = \"directed-roman-empire\"\n",
    "SQUIRREL = \"squirrel\"\n",
    "OGBN_ARXIV = \"ogbn-arxiv\"\n",
    "SNAP_PATENTS = \"snap-patents\"\n",
    "CORA_ML = \"cora_ml\"\n",
    "CITESEER_FULL = \"citeseer_full\"\n",
    "ARXIV_YEAR = \"arxiv-year\"\n",
    "SYN_DIR = \"syn-dir\""
   ]
  },
  {
   "cell_type": "code",
   "execution_count": 4,
   "metadata": {},
   "outputs": [
    {
     "name": "stdout",
     "output_type": "stream",
     "text": [
      "\n",
      "Dataset configuration for cocitation_cora:\n",
      "\n",
      "{'data_domain': 'graph',\n",
      " 'data_type': 'cocitation',\n",
      " 'data_name': 'Cora',\n",
      " 'data_dir': 'datasets/graph/cocitation',\n",
      " 'num_features': 1433,\n",
      " 'num_classes': 7,\n",
      " 'task': 'classification',\n",
      " 'loss_type': 'cross_entropy',\n",
      " 'monitor_metric': 'accuracy',\n",
      " 'task_level': 'node'}\n"
     ]
    }
   ],
   "source": [
    "dataset_name = \"cocitation_cora\"\n",
    "dataset_config = load_dataset_config(dataset_name)\n",
    "loader = GraphLoader(dataset_config)"
   ]
  },
  {
   "cell_type": "code",
   "execution_count": 5,
   "metadata": {},
   "outputs": [
    {
     "name": "stdout",
     "output_type": "stream",
     "text": [
      "\n",
      "Dataset only contains 1 sample:\n",
      " - Graph with 2708 vertices and 10556 edges.\n",
      " - Features dimensions: [1433, 0]\n",
      " - There are 0 isolated nodes.\n",
      "\n"
     ]
    }
   ],
   "source": [
    "dataset = loader.load()\n",
    "describe_data(dataset)"
   ]
  },
  {
   "cell_type": "code",
   "execution_count": 6,
   "metadata": {},
   "outputs": [
    {
     "data": {
      "text/plain": [
       "torch.Size([2, 10556])"
      ]
     },
     "execution_count": 6,
     "metadata": {},
     "output_type": "execute_result"
    }
   ],
   "source": [
    "dataset.edge_index.shape"
   ]
  },
  {
   "cell_type": "code",
   "execution_count": 11,
   "metadata": {},
   "outputs": [
    {
     "name": "stdout",
     "output_type": "stream",
     "text": [
      "\n",
      "Transform configuration for graph2combinatorial/sp_lifting:\n",
      "\n",
      "{'transform_type': 'lifting',\n",
      " 'transform_name': 'Graph2CombinatorialLifting',\n",
      " 'd1': 2,\n",
      " 'd2': 2,\n",
      " 'q': 1,\n",
      " 'i': 0,\n",
      " 'j': 2,\n",
      " 'complex_dim': 2,\n",
      " 'offset': 'torch.tensor([[0], [0]])',\n",
      " 'chunk_size': 1024,\n",
      " 'save_path': 'None',\n",
      " 'threshold': 1}\n"
     ]
    }
   ],
   "source": [
    "# Define transformation type and id\n",
    "transform_type = \"liftings\"\n",
    "# If the transform is a topological lifting, it should include both the type of the lifting and the identifier\n",
    "transform_id = \"graph2combinatorial/sp_lifting\"\n",
    "\n",
    "# Read yaml file\n",
    "transform_config = {\"lifting\": load_transform_config(transform_type, transform_id)\n",
    "    # other transforms (e.g. data manipulations, feature liftings) can be added here\n",
    "}"
   ]
  },
  {
   "cell_type": "code",
   "execution_count": null,
   "metadata": {},
   "outputs": [],
   "source": [
    "lifted_dataset = PreProcessor(dataset, transform_config, loader.data_dir)\n",
    "describe_data(lifted_dataset)"
   ]
  },
  {
   "cell_type": "code",
   "execution_count": null,
   "metadata": {},
   "outputs": [],
   "source": [
    "# # %%\n",
    "\n",
    "# def create_csv_datasets(dataset_name, dataset_dir=\"../dataset/\"):\n",
    "#     dataset, evaluator = get_dataset(dataset_name, dataset_dir)\n",
    "#     source = dataset.edge_index[0].tolist()  # source\n",
    "#     target = dataset.edge_index[1].tolist()  # target\n",
    "\n",
    "#     csv_file_name = \"./dataset/vis/original/\" + dataset_name + \".csv\"\n",
    "\n",
    "#     with open(csv_file_name, \"w\", newline=\"\") as file:\n",
    "#         writer = csv.writer(file)\n",
    "\n",
    "#         # Write the list content as rows\n",
    "#         for a, b in zip(source, target):\n",
    "#             writer.writerow([a, b])\n",
    "\n",
    "#     print(f'CSV file \"{csv_file_name}\" created successfully.')\n",
    "\n",
    "\n",
    "# def create_csv_condensations(dataset_name):\n",
    "\n",
    "#     dataset_digraph = create_digraph_from_dataset(dataset_name)\n",
    "#     condensation_digraph = nx.condensation(dataset_digraph)\n",
    "\n",
    "#     condensation_digraph_edges = list(condensation_digraph.edges)\n",
    "\n",
    "#     if dataset_name == \"cora_ml\":\n",
    "#         dataset_name = \"cora-ml\"\n",
    "\n",
    "#     if dataset_name == \"citeseer_full\":\n",
    "#         dataset_name = \"citeseer-full\"\n",
    "\n",
    "#     csv_file_name = \"./dataset/vis/condensations/\" + dataset_name + \"-condensation.csv\"\n",
    "\n",
    "#     with open(csv_file_name, \"w\", newline=\"\") as file:\n",
    "#         writer = csv.writer(file)\n",
    "\n",
    "#         # Write the list content as rows\n",
    "#         for e in condensation_digraph_edges:\n",
    "#             writer.writerow([e[0], e[1]])\n",
    "\n",
    "#     print(f'CSV file \"{csv_file_name}\" created successfully.')\n",
    "\n",
    "\n",
    "# def create_csv_condensations_from_dataset():\n",
    "\n",
    "#     dataset_list = [\n",
    "#         CHAMELEON,\n",
    "#         ROMAN_EMPIRE,\n",
    "#         SQUIRREL,\n",
    "#         OGBN_ARXIV,\n",
    "#         CORA_ML,\n",
    "#         CITESEER_FULL,\n",
    "#         ARXIV_YEAR,\n",
    "#     ]\n",
    "\n",
    "#     for dataset in dataset_list:\n",
    "#         create_csv_datasets(dataset)\n",
    "#         create_csv_condensations(dataset)\n",
    "\n",
    "\n",
    "# def flagser_count(dataset_name, complex_dim=2, num_threads=4):\n",
    "#     dataset_digraph = create_digraph_from_dataset(dataset_name)\n",
    "\n",
    "#     sparse_adjacency_matrix = nx.to_scipy_sparse_array(dataset_digraph, format=\"csr\")\n",
    "\n",
    "#     start_time = time.time()\n",
    "\n",
    "#     X = pfc.flagser_count(\n",
    "#         sparse_adjacency_matrix,\n",
    "#         threads=num_threads,\n",
    "#         return_simplices=True,\n",
    "#         max_dim=complex_dim,\n",
    "#     )\n",
    "#     end_time = time.time()\n",
    "#     print(\"Time elapsed: \", end_time - start_time)\n",
    "#     return X\n",
    "\n",
    "\n",
    "# def create_digraph_from_dataset(dataset_name, dataset_dir=\"../dataset/\"):\n",
    "#     dataset, evaluator = get_dataset(dataset_name, dataset_dir)\n",
    "#     dataset_digraph = nx.DiGraph()\n",
    "#     dataset_digraph.add_edges_from(\n",
    "#         list(zip(dataset.edge_index[0].tolist(), dataset.edge_index[1].tolist()))\n",
    "#     )\n",
    "#     print(\"Number of nodes: \", dataset_digraph.number_of_nodes(), \" Number of edges: \", dataset_digraph.number_of_edges())\n",
    "#     return dataset_digraph\n",
    "\n",
    "\n",
    "# def create_flag_complex_from_dataset(dataset_name, dataset_dir, complex_dim=2):\n",
    "#     dataset_digraph = create_digraph_from_dataset(dataset_name, dataset_dir)\n",
    "#     flag_complex = dfc.DirectedFlagComplex(dataset_digraph, complex_dim)\n",
    "#     return flag_complex\n",
    "\n",
    "\n",
    "# def create_condensed_digraph_from_dataset(dataset_name):\n",
    "#     dataset_digraph = create_digraph_from_dataset(dataset_name)\n",
    "#     condensation_digraph = nx.condensation(dataset_digraph)\n",
    "#     return condensation_digraph\n",
    "\n",
    "\n",
    "# def dataset_stats(dataset_name, complex_dim=2):\n",
    "#     G = create_digraph_from_dataset(dataset_name)\n",
    "#     FlG = dfc.DirectedFlagComplex(G, complex_dim)\n",
    "#     for d in range(complex_dim + 1):\n",
    "#         print(dataset_name + \" number of \" + str(d) + \"-simplices\", len(FlG.complex[d]))\n",
    "#     return FlG\n",
    "\n",
    "\n",
    "# def qij(\n",
    "#     dataset_name, dataset_dir, q, i, j, complex_dim=2, chunk_size=1024, save_path=None\n",
    "# ):\n",
    "#     FlG = create_flag_complex_from_dataset(dataset_name, dataset_dir, complex_dim)\n",
    "#     return FlG.qij(q, i, j, chunk_size, save_path)\n",
    "\n",
    "\n",
    "# if __name__ == \"__main__\":\n",
    "#     DATASET_DIR = \"../../dataset/\"\n",
    "#     qij(\n",
    "#         WISCONSIN,\n",
    "#         DATASET_DIR,\n",
    "#         1,\n",
    "#         0,\n",
    "#         2,\n",
    "#         complex_dim=2,\n",
    "#         chunk_size=100,\n",
    "#         # save_path=\"../../dataset/cornell/102.pt\",\n",
    "#         save_path=None\n",
    "#     )\n",
    "#     pass"
   ]
  },
  {
   "cell_type": "code",
   "execution_count": null,
   "metadata": {
    "collapsed": false
   },
   "outputs": [],
   "source": []
  }
 ],
 "metadata": {
  "kernelspec": {
   "display_name": "Python 3 (ipykernel)",
   "language": "python",
   "name": "python3"
  },
  "language_info": {
   "codemirror_mode": {
    "name": "ipython",
    "version": 3
   },
   "file_extension": ".py",
   "mimetype": "text/x-python",
   "name": "python",
   "nbconvert_exporter": "python",
   "pygments_lexer": "ipython3",
   "version": "3.10.13"
  }
 },
 "nbformat": 4,
 "nbformat_minor": 2
}
