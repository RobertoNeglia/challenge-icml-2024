{
 "cells": [
  {
   "cell_type": "markdown",
   "metadata": {
    "collapsed": false
   },
   "source": [
    "# Simplicial Paths as Higher-Order Motifs\n",
    "\n",
    "A strong inductive bias for deep learning models is processing signals while respecting the local structure of their underlying space. Many real-world systems operate on asymmetric relational structures, leading to directed graph representations. However, most graph and topological models forcibly symmetrize these relationships, thereby losing critical information. While some graph neural networks have recently started incorporating **asymmetric** pairwise interactions, extending the topological deep learning (TDL) framework to account for asymmetric higher-order relationships remains unexplored.\n",
    "\n",
    "Recent studies have examined cascading dynamics on networks at the simplicial level [2]. In Topological Data Analysis (TDA), the use of topological tools to address questions in neuroscience has generated interest in constructing topological spaces from digraphs to better understand the phenomena they support [3].\n",
    "\n",
    "For this reason, we suggest using **maximal simplicial paths**, deerived from **directed graphs**, as cell of a **combinatorial complex**. Therefore, we are proposing a lifting **from directed graphs to combinatorial complexes**.\n",
    "\n",
    "Next, we provide an introduction to the fundamental concepts underlying our approach. For a more comprehensive exploration of these basics, we refer the reader to [1]. To the best of our knowledge, this is the first lifting taking into account an **higher-order notion of directionality** in defining cells, differently from, e.g., taking directly as cells the simplices of a directed flag complex (see below).\n",
    "\n",
    "## Complexes\n",
    "\n",
    "**Directed Graphs**\n",
    "\n",
    "A *directed graph* (digraph) is a pair $G = (V,E)$ of a finite set $V$ of vertices and $E \\subseteq [V]^2/\\Delta_V$ is a relation, where $\\Delta_V = \\{(v,v)|v \\in V\\}$. Note that the relation is not necessarily symmetric. Quotienting by $\\Delta_V$ we avoid loops on the graph, i.e., no edges $(v,v)$.\n",
    "\n",
    "**Abstract Simplicial Complexes**\n",
    "\n",
    "An *abstract simplicial complex* is a pair $K = (V, \\Sigma)$, where $V$ is a finite set of vertices, and $\\Sigma$ is a collection of subsets of $\\Sigma$ such that for all element $\\sigma \\in \\Sigma$, $\\tau \\subseteq \\sigma$ implies $\\tau \\in \\Sigma$. An element $\\sigma$ of $\\Sigma$ is an *abstract simplex* of $\\mathcal{K}$. It is a *k-simplex* if $|\\sigma| = k+1$. If $\\tau \\subseteq \\sigma \\in \\mathcal{K}$, then $\\tau$ is a face of $\\sigma$. If the dimension $\\tau$ is $\\dim(\\tau) = \\dim(\\sigma) - 1$, then it is a *facet* of $\\sigma$. The *dimension* $\\dim(\\mathcal{K})$ of $\\mathcal{K}$ is the maximal dimension of a simplex in $\\mathcal{K}$.\n",
    "\n",
    "There is a standard way of building an abstract simplicial complex from a graph.\n",
    "\n",
    "**Flag Complex**\n",
    "\n",
    "Given a graph $G$, its associated flag complex is the abstract simplicial complex whose $k$-simplices are formed by the $(k+1)$-cliques of the graph.\n",
    "\n",
    "The following are the natural generalization of flag complexes for digraphs.\n",
    "\n",
    "**Directed Flag Complex**\n",
    "\n",
    "An ordered $k$-clique of a directed graph $G$ is a totally ordered $k$-tuple $(v_1, \\dots, v_n)$ of vertices of $G$ with the property that $(v_i, v_{j}) \\in E$ for $i < j$. Given a digraph $G$, its directed flag complex is the abstract simplicial complex whose simplices are all the directed $(k+1)$-cliques.\n",
    "\n",
    "\n",
    "## Simplicial Paths\n",
    "\n",
    "**Edge paths on digraphs**\n",
    "\n",
    "A path on a digraph is a sequence $(v_0, v_1, \\dots, v_n)$ such that any consecutive pair $(v_i, v_{i+1}) \\in E$, moving from a source vertex to a sink vertex. Directed graphs support various directed edge paths.\n",
    "\n",
    "Directed cliques have an inherent directionality, which we exploit to extend the notion to higher-dimensional simplicial paths formed by sequences of simplices in the directed flag complex.\n",
    "\n",
    "We will impose the notion of direction via face maps.\n",
    "\n",
    "**Face maps**\n",
    "\n",
    "Face maps uniquely identify the faces of the simplex by omitting the $i$th-vertex. Let $\\sigma$ be an $n$-simplex. We denote by $\\hat{d}_i$ the face map\n",
    "\n",
    "$$\n",
    "\\hat{d}_i(\\sigma) =\n",
    "\\begin{cases}\n",
    "(v_0, \\ldots, \\hat{v}_i, \\ldots, v_n) & \\text{if } i < n, \\\\\n",
    "(v_0, \\ldots, v_{n-1}, \\hat{v}_n) & \\text{if } i \\geq n.\n",
    "\\end{cases}\n",
    "$$\n",
    "\n",
    "**Directed Q-Connectivity**\n",
    "\n",
    "For an ordered simplicial complex $K$, let $(\\sigma, \\tau)$ be an ordered pair of simplices $\\sigma \\in K_s$ and $\\tau \\in K_t$, where $s, t \\geq q$. Let $(\\hat{d}_i, \\hat{d}_j)$ be an ordered pair of the $ith$ and  $jth$ face maps. Then $(\\sigma, \\tau)$ is $q$-*near along* $(\\hat{d}_i, \\hat{d}_j)$ if either of the following conditions is true:\n",
    "\n",
    "1. $\\sigma \\leftrightarrow \\tau$,\n",
    "2. $\\hat{d}_i(\\sigma) \\leftrightarrow \\alpha \\leftrightarrow \\hat{d}_j(\\tau)$, for some $q$-simplex $\\alpha \\in K$.\n",
    "\n",
    "By closing the directed q-nearness transitively, the ordered pair $(\\sigma, \\tau)$ of simplices of $K$ is $q$-*connected along* $(\\hat{d}_i, \\hat{d}_j)$ if there is a sequence of simplices in $K$,\n",
    "\n",
    "$$\\sigma = \\alpha_0, \\alpha_1, \\alpha_2, \\ldots, \\alpha_n, \\alpha_{n+1} = \\tau,$$\n",
    "\n",
    "such that any two consecutive ones are $q$-*near along* $(\\hat{d}_i, \\hat{d}_j)$. The sequence of simplices is called a $q$-*connection* along $(\\hat{d}_i, \\hat{d}_j)$ between $\\sigma$ and $\\tau$ or $(q, \\hat{d}_i, \\hat{d}_j)$-*connection*, when the choices of $q$ and directions $\\hat{d}_i$ and $\\hat{d}_j$ are made. From now on we refer $(q, \\hat{d}_i, \\hat{d}_j)$ as $(q, i, j)$.\n",
    "\n",
    "*Theorem* The relation of being $(q,i,j)$-connected is a preorder on $\\Sigma_{\\geq q}$.\n",
    "\n",
    "**Directions and Simplicial Paths as Topological Information**\n",
    "\n",
    "Instead of focusing on the path structure of the digraph, we look at the path structure of the high-dimensional simplices by exploring the $q$-connectivity preorder.\n",
    "\n",
    "Different choices of $q,i,j$ allow to enphasize different features of directionality. For instance, $(1,0,2)$-connected paths of 2-simplices exhibit directed flows aligned with the directionality of the total order of the adjacent simplices. On the other hand, the $(1,1,2)$ preorder reveals circular flows around a source vertex\n",
    "\n",
    "<p align=\"center\">\n",
    "    <img src=\"./figures/sp.jpeg\" alt=\"Alt Text\" style=\"max-width: 50%; max-height: 50%;\">\n",
    "</p>\n",
    "\n",
    "The $(q, i, j)$-connections exhibit different homotopical information compared to the original complex arising from the structure of the digraph. The following two digraphs span a $2$-dimensional directed flag complex homotopic to the $2$-sphere, making them indistinguishable by homology. However, by examining the $(1,0,2)$ and $(1,1,2)$ preorders, we can homotopically distinguish these complexes. The $(1,1,2)$ preorder, in particular, allows us to identify circular flows in both the upper and lower hemispheres. Specifically, the first complex has a circular flow only in the upper hemisphere, whereas the second complex exhibits circular flows in both the upper and lower hemispheres.\n",
    "\n",
    "<p align=\"center\">\n",
    "    <img src=\"./figures/sph.jpeg\" alt=\"Alt Text\" style=\"max-width: 50%; max-height: 50%;\">\n",
    "</p>\n",
    "\n",
    "## References\n",
    "\n",
    "[1] Henri Riihïmaki. [Simplicial q-Connectivity of Directed Graphs with Applications to Network Analysis](https://arxiv.org/pdf/2202.07307).\n",
    "\n",
    "[2] Bengier Ulgen, Dane Taylor. [Simplicial cascades are orchestrated by the multidimensional geometry of neuronal complexes](https://arxiv.org/pdf/2201.02071).\n",
    "\n",
    "[3] Dane Taylor, Florian Klimm. [Topological data analysis of contagion maps for examining spreading processes on networks](https://arxiv.org/pdf/1408.1168)\n",
    "\n",
    "[4] D. Lütgehetmann, D. Govc, J.P. Smith, and R. Levi. [Computing persistent homology of directed flag complexes](https://arxiv.org/pdf/arXiv:1906.10458).\n"
   ]
  },
  {
   "cell_type": "markdown",
   "source": [
    "### Imports and utilities"
   ],
   "metadata": {
    "collapsed": false
   }
  },
  {
   "cell_type": "code",
   "execution_count": 6,
   "metadata": {
    "collapsed": false,
    "ExecuteTime": {
     "end_time": "2024-07-12T11:40:44.326185Z",
     "start_time": "2024-07-12T11:40:44.283154Z"
    }
   },
   "outputs": [
    {
     "name": "stdout",
     "output_type": "stream",
     "text": [
      "The autoreload extension is already loaded. To reload it, use:\n",
      "  %reload_ext autoreload\n"
     ]
    }
   ],
   "source": [
    "# With this cell any imported module is reloaded before each cell execution\n",
    "%load_ext autoreload\n",
    "%autoreload 2\n",
    "from modules.data.load.loaders import GraphLoader\n",
    "from modules.data.preprocess.preprocessor import PreProcessor\n",
    "from modules.utils.utils import (describe_data, load_dataset_config, load_model_config, load_transform_config, )"
   ]
  },
  {
   "cell_type": "markdown",
   "source": [
    "## Loading the Dataset"
   ],
   "metadata": {
    "collapsed": false
   }
  },
  {
   "cell_type": "markdown",
   "source": [
    "In this section, we load the dataset. We will use the DBLP dataset, which is a citation network dataset. The dataset is loaded using the CitationFull class from torch_geometric.datasets.citation_full instead of the proposed challenge databases because our interest lies in directed networks. The dataset is then described using the describe_data function."
   ],
   "metadata": {
    "collapsed": false
   }
  },
  {
   "cell_type": "code",
   "execution_count": 7,
   "outputs": [],
   "source": [
    "import os.path as osp\n",
    "from typing import Callable, Optional\n",
    "\n",
    "from torch_geometric.data import InMemoryDataset, download_url\n",
    "from torch_geometric.io import read_npz\n",
    "\n",
    "\n",
    "class CitationFull(InMemoryDataset):\n",
    "    r\"\"\"The full citation network datasets from the\n",
    "    `\"Deep Gaussian Embedding of Graphs: Unsupervised Inductive Learning via\n",
    "    Ranking\" <https://arxiv.org/abs/1707.03815>`_ paper.\n",
    "    Nodes represent documents and edges represent citation links.\n",
    "    Datasets include :obj:`\"Cora\"`, :obj:`\"Cora_ML\"`, :obj:`\"CiteSeer\"`,\n",
    "    :obj:`\"DBLP\"`, :obj:`\"PubMed\"`.\n",
    "\n",
    "    Args:\n",
    "        root (str): Root directory where the dataset should be saved.\n",
    "        name (str): The name of the dataset (:obj:`\"Cora\"`, :obj:`\"Cora_ML\"`\n",
    "            :obj:`\"CiteSeer\"`, :obj:`\"DBLP\"`, :obj:`\"PubMed\"`).\n",
    "        transform (callable, optional): A function/transform that takes in an\n",
    "            :obj:`torch_geometric.data.Data` object and returns a transformed\n",
    "            version. The data object will be transformed before every access.\n",
    "            (default: :obj:`None`)\n",
    "        pre_transform (callable, optional): A function/transform that takes in\n",
    "            an :obj:`torch_geometric.data.Data` object and returns a\n",
    "            transformed version. The data object will be transformed before\n",
    "            being saved to disk. (default: :obj:`None`)\n",
    "        to_undirected (bool, optional): Whether the original graph is\n",
    "            converted to an undirected one. (default: :obj:`True`)\n",
    "        force_reload (bool, optional): Whether to re-process the dataset.\n",
    "            (default: :obj:`False`)\n",
    "\n",
    "    **STATS:**\n",
    "\n",
    "    .. list-table::\n",
    "        :widths: 10 10 10 10 10\n",
    "        :header-rows: 1\n",
    "\n",
    "        * - Name\n",
    "          - #nodes\n",
    "          - #edges\n",
    "          - #features\n",
    "          - #classes\n",
    "        * - Cora\n",
    "          - 19,793\n",
    "          - 126,842\n",
    "          - 8,710\n",
    "          - 70\n",
    "        * - Cora_ML\n",
    "          - 2,995\n",
    "          - 16,316\n",
    "          - 2,879\n",
    "          - 7\n",
    "        * - CiteSeer\n",
    "          - 4,230\n",
    "          - 10,674\n",
    "          - 602\n",
    "          - 6\n",
    "        * - DBLP\n",
    "          - 17,716\n",
    "          - 105,734\n",
    "          - 1,639\n",
    "          - 4\n",
    "        * - PubMed\n",
    "          - 19,717\n",
    "          - 88,648\n",
    "          - 500\n",
    "          - 3\n",
    "    \"\"\"\n",
    "\n",
    "    url = 'https://github.com/abojchevski/graph2gauss/raw/master/data/{}.npz'\n",
    "\n",
    "    def __init__(\n",
    "        self,\n",
    "        root: str,\n",
    "        name: str,\n",
    "        transform: Optional[Callable] = None,\n",
    "        pre_transform: Optional[Callable] = None,\n",
    "        to_undirected: bool = False,\n",
    "        force_reload: bool = False,\n",
    "    ) -> None:\n",
    "        self.name = name.lower()\n",
    "        self.to_undirected = to_undirected\n",
    "        assert self.name in ['cora', 'cora_ml', 'citeseer', 'dblp', 'pubmed']\n",
    "        super().__init__(root, transform, pre_transform,\n",
    "                         force_reload=force_reload)\n",
    "        self.load(self.processed_paths[0])\n",
    "\n",
    "    @property\n",
    "    def raw_dir(self) -> str:\n",
    "        return osp.join(self.root, self.name, 'raw')\n",
    "\n",
    "    @property\n",
    "    def processed_dir(self) -> str:\n",
    "        return osp.join(self.root, self.name, 'processed')\n",
    "\n",
    "    @property\n",
    "    def raw_file_names(self) -> str:\n",
    "        return f'{self.name}.npz'\n",
    "\n",
    "    @property\n",
    "    def processed_file_names(self) -> str:\n",
    "        suffix = 'undirected' if self.to_undirected else 'directed'\n",
    "        return f'data_{suffix}.pt'\n",
    "\n",
    "    def download(self) -> None:\n",
    "        download_url(self.url.format(self.name), self.raw_dir)\n",
    "\n",
    "    def process(self) -> None:\n",
    "        data = read_npz(self.raw_paths[0], to_undirected=self.to_undirected)\n",
    "        data = data if self.pre_transform is None else self.pre_transform(data)\n",
    "        self.save([data], self.processed_paths[0])\n",
    "\n",
    "    def __repr__(self) -> str:\n",
    "        return f'{self.name.capitalize()}Full()'\n"
   ],
   "metadata": {
    "collapsed": false,
    "ExecuteTime": {
     "end_time": "2024-07-12T11:40:49.921939Z",
     "start_time": "2024-07-12T11:40:49.887792Z"
    }
   }
  },
  {
   "cell_type": "code",
   "execution_count": 8,
   "outputs": [
    {
     "name": "stderr",
     "output_type": "stream",
     "text": [
      "Downloading https://github.com/abojchevski/graph2gauss/raw/master/data/cora.npz\n",
      "Processing...\n",
      "Done!\n"
     ]
    },
    {
     "name": "stdout",
     "output_type": "stream",
     "text": [
      "\n",
      "Dataset only contains 1 sample:\n",
      "[]\n",
      " - Graph with 19793 vertices and 65311 edges.\n",
      " - Features dimensions: [8710, 0]\n",
      " - There are 0 isolated nodes.\n",
      "\n"
     ]
    }
   ],
   "source": [
    "dataset  = CitationFull(root = \"data/cora\", name = \"cora\")\n",
    "describe_data(dataset)"
   ],
   "metadata": {
    "collapsed": false,
    "ExecuteTime": {
     "end_time": "2024-07-12T11:41:09.156412Z",
     "start_time": "2024-07-12T11:41:04.768434Z"
    }
   }
  },
  {
   "cell_type": "markdown",
   "source": [
    "## Loading and Applying the Lifting"
   ],
   "metadata": {
    "collapsed": false
   }
  },
  {
   "cell_type": "markdown",
   "source": [
    "In this section, we will instantiate the lifting we want to apply to the data. We generate a combinatorial complex from the directed graph satisfying the following conditions:\n",
    "\n",
    "- Rank 0 cells are the vertices of the graph.\n",
    "- Rank 1 cells are the directed edges of the graph.\n",
    "- Rank 2 cells are the maximal simplicial paths of length greater than 1 obtained from the (1,1,2)-connectivity preorder arising from the directed flag complex associated with our directed network dataset. (circular flows around a source vertex)\n",
    "\n",
    "The threshold length and the face maps imposing the directionality are defined in the transform_config dictionary and can be modified according to the user’s needs.\n"
   ],
   "metadata": {
    "collapsed": false
   }
  },
  {
   "cell_type": "code",
   "execution_count": 9,
   "metadata": {
    "ExecuteTime": {
     "end_time": "2024-07-12T11:41:14.920374Z",
     "start_time": "2024-07-12T11:41:14.883779Z"
    }
   },
   "outputs": [
    {
     "name": "stdout",
     "output_type": "stream",
     "text": [
      "\n",
      "Transform configuration for graph2combinatorial/sp_lifting:\n",
      "\n",
      "{'transform_type': 'lifting',\n",
      " 'transform_name': 'SimplicialPathsLifting',\n",
      " 'd1': 2,\n",
      " 'd2': 2,\n",
      " 'q': 1,\n",
      " 'i': 1,\n",
      " 'j': 2,\n",
      " 'complex_dim': 2,\n",
      " 'chunk_size': 1024,\n",
      " 'threshold': 1}\n"
     ]
    }
   ],
   "source": [
    "transform_type = \"liftings\"\n",
    "transform_id = \"graph2combinatorial/sp_lifting\"\n",
    "transform_config = {\"lifting\": load_transform_config(transform_type, transform_id)}"
   ]
  },
  {
   "cell_type": "markdown",
   "source": [
    "We apply the transform via the preprocessor and describe the resulting dataset."
   ],
   "metadata": {
    "collapsed": false
   }
  },
  {
   "cell_type": "code",
   "execution_count": 10,
   "metadata": {
    "ExecuteTime": {
     "end_time": "2024-07-12T11:42:47.752849Z",
     "start_time": "2024-07-12T11:41:15.818942Z"
    }
   },
   "outputs": [
    {
     "name": "stderr",
     "output_type": "stream",
     "text": [
      "Processing...\n"
     ]
    },
    {
     "name": "stdout",
     "output_type": "stream",
     "text": [
      "[[3829, 3831], [3829, 3832], [3837, 3831], [3837, 3832], [4903, 4896], [4903, 4897], [5712, 5715], [5712, 5716], [5712, 5717], [8772, 8779], [8777, 8779], [9660, 9662], [9661, 9662], [9990, 9988], [9990, 9989], [10012, 10006], [10012, 10007], [10012, 10008], [11623, 11619], [11623, 11620], [11623, 11621], [11629, 11619], [11629, 11620], [11629, 11621], [11958, 11955], [11958, 11956], [15921, 15918], [15921, 15919], [15925, 15918], [15925, 15919], [15972, 15975], [15972, 15976], [15972, 15977], [15972, 15978], [15972, 15979], [15984, 15975], [15984, 15976], [15984, 15977], [15984, 15978], [15984, 15979], [19923, 19925], [19923, 19926], [19923, 19927], [20788, 20786], [22427, 22428], [22427, 22429], [22427, 22430], [23172, 23167], [23172, 23168], [24356, 24360, 24357], [24358, 24360, 24356, 24361], [24358, 24360, 24357], [24358, 24361], [24363, 24360, 24356, 24361], [24363, 24360, 24357], [24363, 24361], [24614, 24617], [24985, 24986], [25347, 25362], [25347, 25363], [25347, 25364], [25347, 25365], [27278, 27260], [27278, 27261], [27278, 27262], [27950, 27945], [27950, 27946], [30318, 30321], [30318, 30322], [30318, 30323], [30318, 30324], [30318, 30325], [30318, 30326], [30318, 30327], [30335, 30321], [30335, 30322], [30335, 30323], [30335, 30324], [30335, 30325], [30335, 30326], [30335, 30327], [30341, 30321], [30341, 30322], [30341, 30323], [30341, 30324], [30341, 30325], [30341, 30326], [30341, 30327], [30441, 30428], [30441, 30429], [30441, 30430], [30441, 30431], [30441, 30432], [30441, 30433], [30441, 30434], [30441, 30435], [39245, 39244], [41788, 41783], [41788, 41784], [41788, 41785], [41789, 41790], [41790, 41789], [43781, 43780], [43782, 43780], [48259, 48262], [48261, 48262], [49587, 49591], [49587, 49592], [49594, 49591], [49594, 49592], [49990, 49991], [51157, 51160], [51159, 51160], [51697, 51698], [51697, 51699], [51697, 51700], [51697, 51701], [52675, 52677], [52675, 52678], [52675, 52679, 52682], [52675, 52679, 52683, 52677], [52675, 52679, 52683, 52678], [52676, 52682], [52676, 52683, 52677], [52676, 52683, 52678], [52676, 52683, 52679, 52682], [52680, 52677], [52680, 52678], [52680, 52679, 52682], [52680, 52679, 52683, 52677], [52680, 52679, 52683, 52678], [52681, 52682], [52681, 52683, 52677], [52681, 52683, 52678], [52681, 52683, 52679, 52682], [52909, 52906], [53539, 53541], [54371, 54375], [54371, 54376], [54743, 54751], [54743, 54752], [54743, 54753], [54743, 54754]]\n"
     ]
    },
    {
     "name": "stderr",
     "output_type": "stream",
     "text": [
      "Done!\n"
     ]
    },
    {
     "name": "stdout",
     "output_type": "stream",
     "text": [
      "\n",
      "Dataset only contains 1 sample:\n",
      "[19793, 127]\n",
      " - Graph with 19793 vertices and 127 edges.\n",
      " - Features dimensions: [8710, 8710]\n",
      " - There are 0 isolated nodes.\n",
      "\n"
     ]
    }
   ],
   "source": [
    "lifted_dataset = PreProcessor(dataset, transform_config, \"data/pubmed\")\n",
    "describe_data(lifted_dataset)"
   ]
  },
  {
   "cell_type": "markdown",
   "metadata": {
    "ExecuteTime": {
     "end_time": "2024-07-12T08:26:04.858289Z",
     "start_time": "2024-07-12T08:26:04.484851Z"
    }
   },
   "source": [
    "## Create and Run a NN Model"
   ],
   "outputs": [
    {
     "name": "stdout",
     "output_type": "stream",
     "text": [
      "\n",
      "Dataset only contains 1 sample:\n",
      "[]\n",
      " - Graph with 19793 vertices and 65311 edges.\n",
      " - Features dimensions: [8710, 0]\n",
      " - There are 0 isolated nodes.\n",
      "\n"
     ]
    }
   ],
   "execution_count": 11
  },
  {
   "cell_type": "markdown",
   "metadata": {
    "ExecuteTime": {
     "end_time": "2024-07-12T08:26:06.047250Z",
     "start_time": "2024-07-12T08:26:06.014410Z"
    }
   },
   "source": [
    "In this section a simple model is created to test that the used lifting works as intended."
   ],
   "outputs": [
    {
     "name": "stdout",
     "output_type": "stream",
     "text": [
      "\n",
      "Transform configuration for graph2combinatorial/sp_lifting:\n",
      "\n",
      "{'transform_type': 'lifting',\n",
      " 'transform_name': 'SimplicialPathsLifting',\n",
      " 'd1': 2,\n",
      " 'd2': 2,\n",
      " 'q': 1,\n",
      " 'i': 0,\n",
      " 'j': 2,\n",
      " 'complex_dim': 2,\n",
      " 'chunk_size': 1024,\n",
      " 'threshold': 1}\n"
     ]
    }
   ],
   "execution_count": 12
  },
  {
   "cell_type": "code",
   "execution_count": 11,
   "metadata": {
    "ExecuteTime": {
     "end_time": "2024-07-12T11:43:00.617876Z",
     "start_time": "2024-07-12T11:43:00.569870Z"
    }
   },
   "outputs": [],
   "source": [
    "from modules.models.combinatorial.spcc import SPCCNN\n",
    "model_type = \"combinatorial\"\n",
    "model_id = \"spccnn\"\n",
    "n_nodes = dataset.x.shape[0]\n",
    "model = SPCCNN(channels_per_layer = [[[lifted_dataset.x.shape[1],lifted_dataset.x.shape[1]],[1,1]]], out_channels_0 = 1)"
   ]
  },
  {
   "cell_type": "code",
   "execution_count": 12,
   "metadata": {
    "ExecuteTime": {
     "end_time": "2024-07-12T11:43:01.801074Z",
     "start_time": "2024-07-12T11:43:01.186518Z"
    }
   },
   "outputs": [],
   "source": [
    "y_hat = model(lifted_dataset.get(0))"
   ]
  }
 ],
 "metadata": {
  "kernelspec": {
   "display_name": "Python 3 (ipykernel)",
   "language": "python",
   "name": "python3"
  },
  "language_info": {
   "codemirror_mode": {
    "name": "ipython",
    "version": 3
   },
   "file_extension": ".py",
   "mimetype": "text/x-python",
   "name": "python",
   "nbconvert_exporter": "python",
   "pygments_lexer": "ipython3",
   "version": "3.10.13"
  }
 },
 "nbformat": 4,
 "nbformat_minor": 2
}
