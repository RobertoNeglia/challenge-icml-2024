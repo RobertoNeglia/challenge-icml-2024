{
 "cells": [
  {
   "cell_type": "markdown",
   "source": [
    "# Simplicial Paths as Higher-Order Motifs\n",
    "\n",
    "A strong inductive bias for deep learning models is processing signals while respecting the local structure of their underlying space. Many real-world systems operate on asymmetric relational structures, leading to directed graph representations. However, most graph and topological models forcibly symmetrize these relationships, thereby losing critical information. While some graph neural networks have recently started incorporating asymmetric pairwise interactions, extending the topological data analysis (TDA) framework to account for asymmetric higher-order relationships remains unexplored.\n",
    "\n",
    "Recent studies have examined cascading dynamics on networks at the simplicial level [2]. In TDA, the use of topological tools to address questions in neuroscience has generated interest in constructing topological spaces from digraphs to better understand the phenomena they support [3].\n",
    "\n",
    "Driven by the belief that complex high-order dynamics reveal crucial interactions among related signals, we propose integrating high-order directionality to identify simplicial paths. This approach will uncover intricate patterns and dynamics that traditional methods often overlook.\n",
    "\n",
    "Specifically, we suggest using maximal simplicial paths as high-dimensional motifs derived from directed graphs and encoding these paths as high-order cells within a combinatorial complex. This method will facilitate the emergence of novel complex information and lead to more expressive graph representation models. We propose this approach as a first step towards defining directed topological neural network architectures.\n",
    "\n",
    "Next, we introduce the basic background to the approach. For a more extensive introduction to the basics, we confer the reader to [1].\n",
    "\n",
    "## Complexes\n",
    "\n",
    "**Directed Graphs**\n",
    "\n",
    "A *directed graph* (digraph) is a pair $G = (V,E)$ of a finite set $V$ of vertices and $E \\subseteq [V]^2/\\Delta_V$ is a relation, where $\\Delta_V = \\{(v,v)|v \\in V\\}$. Note that the relation is not necessarily symmetric. Quotienting by $\\Delta_V$ we avoid loops on the graph, i.e., no edges $(v,v)$.\n",
    "\n",
    "**Abstract Simplicial Complexes**\n",
    "\n",
    "An *abstract simplicial complex* is a pair $K = (V, \\Sigma)$, where $V$ is a finite set of vertices, and $\\Sigma$ is a collection of subsets of $\\Sigma$ such that for all element $\\sigma \\in \\Sigma$, $\\tau \\subseteq \\sigma$ implies $\\tau \\in \\Sigma$. An element $\\sigma$ of $\\Sigma$ is an *abstract simplex* of $\\mathcal{K}$. It is a *k-simplex* if $|\\sigma| = k+1$. If $\\tau \\subseteq \\sigma \\in \\mathcal{K}$, then $\\tau$ is a face of $\\sigma$. If the dimension $\\tau$ is $\\dim(\\tau) = \\dim(\\sigma) - 1$, then it is a *facet* of $\\sigma$. The *dimension* $\\dim(\\mathcal{K})$ of $\\mathcal{K}$ is the maximal dimension of a simplex in $\\mathcal{K}$.\n",
    "\n",
    "There is a standard way of building an abstract simplicial complex from a graph.\n",
    "\n",
    "**Flag Complex**\n",
    "\n",
    "Given a graph $G$, its associated flag complex is the abstract simplicial complex whose $k$-simplices are formed by the $(k+1)$-cliques of the graph.\n",
    "\n",
    "The following are the natural generalization of flag complexes for digraphs.\n",
    "\n",
    "**Directed Flag Complex**\n",
    "\n",
    "An ordered $k$-clique of a directed graph $G$ is a totally ordered $k$-tuple $(v_1, \\dots, v_n)$ of vertices of $G$ with the property that $(v_i, v_{j}) \\in E$ for $i < j$. Given a digraph $G$, its directed flag complex is the abstract simplicial complex whose simplices are all the directed $(k+1)$-cliques.\n",
    "\n",
    "\n",
    "## Simplicial Paths\n",
    "\n",
    "**Edge paths on digraphs** A path on a digraph is a sequence $(v_0, v_1, \\dots, v_n)$ such that any consecutive pair $(v_i, v_{i+1}) \\in E$, moving from a source vertex to a sink vertex. Directed graphs support various directed edge paths.\n",
    "\n",
    "Directed cliques have an inherent directionality, which we exploit to extend the notion to higher-dimensional simplicial paths formed by sequences of simplices in the directed flag complex.\n",
    "\n",
    "We will impose the notion of direction via face maps.\n",
    "\n",
    "**Face maps** Face maps uniquely identify the faces of the simplex by omitting the $i$th-vertex. Let $\\sigma$ be an $n$-simplex. We denote by $\\hat{d}_i$ the face map\n",
    "\n",
    "$$\n",
    "\\hat{d}_i(\\sigma) =\n",
    "\\begin{cases}\n",
    "(v_0, \\ldots, \\hat{v}_i, \\ldots, v_n) & \\text{if } i < n, \\\\\n",
    "(v_0, \\ldots, v_{n-1}, \\hat{v}_n) & \\text{if } i \\geq n.\n",
    "\\end{cases}\n",
    "$$\n",
    "\n",
    "**Directed Q-Connectivity** For an ordered simplicial complex $K$, let $(\\sigma, \\tau)$ be an ordered pair of simplices $\\sigma \\in K_s$ and $\\tau \\in K_t$, where $s, t \\geq q$. Let $(\\hat{d}_i, \\hat{d}_j)$ be an ordered pair of the $ith$ and  $jth$ face maps. Then $(\\sigma, \\tau)$ is $q$-*near along* $(\\hat{d}_i, \\hat{d}_j)$ if either of the following conditions is true:\n",
    "\n",
    "1. $\\sigma \\leftrightarrow \\tau$,\n",
    "2. $\\hat{d}_i(\\sigma) \\leftrightarrow \\alpha \\leftrightarrow \\hat{d}_j(\\tau)$, for some $q$-simplex $\\alpha \\in K$.\n",
    "\n",
    "By closing the directed q-nearness transitively, the ordered pair $(\\sigma, \\tau)$ of simplices of $K$ is $q$-*connected along* $(\\hat{d}_i, \\hat{d}_j)$ if there is a sequence of simplices in $K$,\n",
    "\n",
    "$$\\sigma = \\alpha_0, \\alpha_1, \\alpha_2, \\ldots, \\alpha_n, \\alpha_{n+1} = \\tau,$$\n",
    "\n",
    "such that any two consecutive ones are $q$-*near along* $(\\hat{d}_i, \\hat{d}_j)$. The sequence of simplices is called a $q$-*connection* along $(\\hat{d}_i, \\hat{d}_j)$ between $\\sigma$ and $\\tau$ or $(q, \\hat{d}_i, \\hat{d}_j)$-*connection*, when the choices of $q$ and directions $\\hat{d}_i$ and $\\hat{d}_j$ are made. From now on we refer $(q, \\hat{d}_i, \\hat{d}_j)$ as $(q, i, j)$.\n",
    "\n",
    "**Theorem** The relation of being $(q,i,j)$-connected is a preorder on $\\Sigma_{\\geq q}$.\n",
    "\n",
    "Instead of focusing on the path structure of the digraph, we look at the path structure of the high-dimensional simplices by exploring the $q$-connectivity preorder.\n",
    "\n",
    "Different choices of $q,i,j$ allow to enphasize different features of directionality. For instance, $(1,0,2)$-connected paths of 2-simplices exhibit directed flows aligned with the directionality of the total order of the adjacent simplices. On the other hand, the $(1,1,2)$ preorder reveals circular flows around a source vertex\n",
    "\n",
    "<p align=\"center\">\n",
    "    <img src=\"./figures/sp.jpeg\" alt=\"Alt Text\" style=\"max-width: 50%; max-height: 50%;\">\n",
    "</p>\n",
    "\n",
    "The $(q, i, j)$-connections exhibit different homotopical information compared to the original complex arising from the structure of the digraph. The following two digraphs span a $2$-dimensional directed flag complex homotopic to the $2$-sphere, making them indistinguishable by homology. However, by examining the $(1,0,2)$ and $(1,1,2)$ preorders, we can homotopically distinguish these complexes. The $(1,1,2)$ preorder, in particular, allows us to identify circular flows in both the upper and lower hemispheres. Specifically, the first complex has a circular flow only in the upper hemisphere, whereas the second complex exhibits circular flows in both the upper and lower hemispheres.\n",
    "\n",
    "<p align=\"center\">\n",
    "    <img src=\"./figures/sph.jpeg\" alt=\"Alt Text\" style=\"max-width: 50%; max-height: 50%;\">\n",
    "</p>\n",
    "\n",
    "## References\n",
    "\n",
    "[1] Henri Riihïmaki. [Simplicial q-Connectivity of Directed Graphs with Applications to Network Analysis](https://arxiv.org/pdf/2202.07307).\n",
    "\n",
    "[2] Bengier Ulgen, Dane Taylor. [Simplicial cascades are orchestrated by the multidimensional geometry of neuronal complexes](https://arxiv.org/pdf/2201.02071).\n",
    "\n",
    "[3] Dane Taylor, Florian Klimm. [Topological data analysis of contagion maps for examining spreading processes on networks](https://arxiv.org/pdf/1408.1168)\n",
    "\n",
    "[3] D. Lütgehetmann, D. Govc, J.P. Smith, and R. Levi. [Computing persistent homology of directed flag complexes](https://arxiv.org/pdf/arXiv:1906.10458).\n"
   ],
   "metadata": {
    "collapsed": false
   }
  },
  {
   "cell_type": "code",
   "execution_count": 1,
   "outputs": [],
   "source": [
    "\n"
   ],
   "metadata": {
    "collapsed": false,
    "ExecuteTime": {
     "end_time": "2024-07-09T16:00:56.856539Z",
     "start_time": "2024-07-09T16:00:56.853599Z"
    }
   }
  },
  {
   "cell_type": "markdown",
   "source": [
    "# TO DO\n",
    "\n",
    "1. Dataset Loading\n",
    "Implements the pipeline to load a dataset from the src domain. Since the challenge repository doesn’t allow storing large files, loaders must download datasets from external sources into the datasets/ folder.\n",
    "This pipeline is provided for several graph-based datasets. For any other src domain, participants are allowed to transform graph datasets into the corresponding domain through our provided lifting mappings –or just dropping their connectivity to get point-clouds.\n",
    "(Bonus) Designing a loader for a new dataset (ones that are not already provided in the tutorials) will be positively taken into consideration in the final evaluation.\n",
    "\n",
    "2. Pre-processing the Dataset\n",
    "Applies the lifting transform to the dataset.\n",
    "Needs to be done through the PreProcessor, which we provide in\n",
    "modules/io/preprocess/preprocessor.py.\n",
    "\n",
    "3. Running a Model over the Lifted Dataset\n",
    "Creates a Neural Network model that operates over the dst domain, leveraging TopoModelX for higher order topologies or torch_geometric for graphs.\n",
    "Runs the model on the lifted dataset."
   ],
   "metadata": {
    "collapsed": false
   }
  },
  {
   "cell_type": "code",
   "execution_count": null,
   "outputs": [],
   "source": [],
   "metadata": {
    "collapsed": false
   }
  },
  {
   "cell_type": "code",
   "execution_count": 1,
   "outputs": [],
   "source": [
    "import csv\n",
    "import time\n",
    "import torch\n",
    "import numpy as np\n",
    "import networkx as nx\n",
    "import scipy.sparse as sp\n",
    "import pyflagsercount as pfc\n",
    "import sys\n",
    "\n",
    "sys.path.append(\"../../\")\n",
    "from modules.transforms.liftings.graph2combinatorial.sp_lifting import (DirectedFlagComplex as dfc, )\n",
    "\n",
    "# from datasets.data_loading import get_dataset, get_dataset_split"
   ],
   "metadata": {
    "collapsed": false,
    "ExecuteTime": {
     "end_time": "2024-07-09T10:03:10.597795Z",
     "start_time": "2024-07-09T10:03:09.075091Z"
    }
   }
  },
  {
   "cell_type": "code",
   "execution_count": 2,
   "metadata": {
    "collapsed": false,
    "is_executing": true
   },
   "outputs": [],
   "source": [
    "# With this cell any imported module is reloaded before each cell execution\n",
    "%load_ext autoreload\n",
    "%autoreload 2\n",
    "from modules.data.load.loaders import GraphLoader\n",
    "from modules.data.preprocess.preprocessor import PreProcessor\n",
    "from modules.utils.utils import (describe_data, load_dataset_config, load_model_config, load_transform_config, )"
   ]
  },
  {
   "cell_type": "code",
   "execution_count": 3,
   "metadata": {},
   "outputs": [],
   "source": [
    "CHAMELEON = \"chameleon\"\n",
    "CORNELL = \"Cornell\"\n",
    "WISCONSIN = \"Wisconsin\"\n",
    "TEXAS = \"Texas\"\n",
    "ROMAN_EMPIRE = \"directed-roman-empire\"\n",
    "SQUIRREL = \"squirrel\"\n",
    "OGBN_ARXIV = \"ogbn-arxiv\"\n",
    "SNAP_PATENTS = \"snap-patents\"\n",
    "CORA_ML = \"cora_ml\"\n",
    "CITESEER_FULL = \"citeseer_full\"\n",
    "ARXIV_YEAR = \"arxiv-year\"\n",
    "SYN_DIR = \"syn-dir\""
   ]
  },
  {
   "cell_type": "code",
   "execution_count": 4,
   "metadata": {},
   "outputs": [
    {
     "name": "stdout",
     "output_type": "stream",
     "text": [
      "\n",
      "Dataset configuration for cocitation_cora:\n",
      "\n",
      "{'data_domain': 'graph',\n",
      " 'data_type': 'cocitation',\n",
      " 'data_name': 'Cora',\n",
      " 'data_dir': 'datasets/graph/cocitation',\n",
      " 'num_features': 1433,\n",
      " 'num_classes': 7,\n",
      " 'task': 'classification',\n",
      " 'loss_type': 'cross_entropy',\n",
      " 'monitor_metric': 'accuracy',\n",
      " 'task_level': 'node'}\n"
     ]
    }
   ],
   "source": [
    "dataset_name = \"cocitation_cora\"\n",
    "dataset_config = load_dataset_config(dataset_name)\n",
    "loader = GraphLoader(dataset_config)"
   ]
  },
  {
   "cell_type": "code",
   "execution_count": 5,
   "metadata": {},
   "outputs": [
    {
     "name": "stdout",
     "output_type": "stream",
     "text": [
      "\n",
      "Dataset only contains 1 sample:\n",
      " - Graph with 2708 vertices and 10556 edges.\n",
      " - Features dimensions: [1433, 0]\n",
      " - There are 0 isolated nodes.\n",
      "\n"
     ]
    }
   ],
   "source": [
    "dataset = loader.load()\n",
    "describe_data(dataset)"
   ]
  },
  {
   "cell_type": "code",
   "execution_count": 6,
   "metadata": {},
   "outputs": [
    {
     "data": {
      "text/plain": [
       "torch.Size([2, 10556])"
      ]
     },
     "execution_count": 6,
     "metadata": {},
     "output_type": "execute_result"
    }
   ],
   "source": [
    "dataset.edge_index.shape"
   ]
  },
  {
   "cell_type": "code",
   "execution_count": 11,
   "metadata": {},
   "outputs": [
    {
     "name": "stdout",
     "output_type": "stream",
     "text": [
      "\n",
      "Transform configuration for graph2combinatorial/sp_lifting:\n",
      "\n",
      "{'transform_type': 'lifting',\n",
      " 'transform_name': 'Graph2CombinatorialLifting',\n",
      " 'd1': 2,\n",
      " 'd2': 2,\n",
      " 'q': 1,\n",
      " 'i': 0,\n",
      " 'j': 2,\n",
      " 'complex_dim': 2,\n",
      " 'offset': 'torch.tensor([[0], [0]])',\n",
      " 'chunk_size': 1024,\n",
      " 'save_path': 'None',\n",
      " 'threshold': 1}\n"
     ]
    }
   ],
   "source": [
    "# Define transformation type and id\n",
    "transform_type = \"liftings\"\n",
    "# If the transform is a topological lifting, it should include both the type of the lifting and the identifier\n",
    "transform_id = \"graph2combinatorial/sp_lifting\"\n",
    "\n",
    "# Read yaml file\n",
    "transform_config = {\"lifting\": load_transform_config(transform_type, transform_id)\n",
    "    # other transforms (e.g. data manipulations, feature liftings) can be added here\n",
    "}"
   ]
  },
  {
   "cell_type": "code",
   "execution_count": null,
   "metadata": {},
   "outputs": [],
   "source": [
    "lifted_dataset = PreProcessor(dataset, transform_config, loader.data_dir)\n",
    "describe_data(lifted_dataset)"
   ]
  },
  {
   "cell_type": "code",
   "execution_count": null,
   "metadata": {},
   "outputs": [],
   "source": [
    "# # %%\n",
    "\n",
    "# def create_csv_datasets(dataset_name, dataset_dir=\"../dataset/\"):\n",
    "#     dataset, evaluator = get_dataset(dataset_name, dataset_dir)\n",
    "#     source = dataset.edge_index[0].tolist()  # source\n",
    "#     target = dataset.edge_index[1].tolist()  # target\n",
    "\n",
    "#     csv_file_name = \"./dataset/vis/original/\" + dataset_name + \".csv\"\n",
    "\n",
    "#     with open(csv_file_name, \"w\", newline=\"\") as file:\n",
    "#         writer = csv.writer(file)\n",
    "\n",
    "#         # Write the list content as rows\n",
    "#         for a, b in zip(source, target):\n",
    "#             writer.writerow([a, b])\n",
    "\n",
    "#     print(f'CSV file \"{csv_file_name}\" created successfully.')\n",
    "\n",
    "\n",
    "# def create_csv_condensations(dataset_name):\n",
    "\n",
    "#     dataset_digraph = create_digraph_from_dataset(dataset_name)\n",
    "#     condensation_digraph = nx.condensation(dataset_digraph)\n",
    "\n",
    "#     condensation_digraph_edges = list(condensation_digraph.edges)\n",
    "\n",
    "#     if dataset_name == \"cora_ml\":\n",
    "#         dataset_name = \"cora-ml\"\n",
    "\n",
    "#     if dataset_name == \"citeseer_full\":\n",
    "#         dataset_name = \"citeseer-full\"\n",
    "\n",
    "#     csv_file_name = \"./dataset/vis/condensations/\" + dataset_name + \"-condensation.csv\"\n",
    "\n",
    "#     with open(csv_file_name, \"w\", newline=\"\") as file:\n",
    "#         writer = csv.writer(file)\n",
    "\n",
    "#         # Write the list content as rows\n",
    "#         for e in condensation_digraph_edges:\n",
    "#             writer.writerow([e[0], e[1]])\n",
    "\n",
    "#     print(f'CSV file \"{csv_file_name}\" created successfully.')\n",
    "\n",
    "\n",
    "# def create_csv_condensations_from_dataset():\n",
    "\n",
    "#     dataset_list = [\n",
    "#         CHAMELEON,\n",
    "#         ROMAN_EMPIRE,\n",
    "#         SQUIRREL,\n",
    "#         OGBN_ARXIV,\n",
    "#         CORA_ML,\n",
    "#         CITESEER_FULL,\n",
    "#         ARXIV_YEAR,\n",
    "#     ]\n",
    "\n",
    "#     for dataset in dataset_list:\n",
    "#         create_csv_datasets(dataset)\n",
    "#         create_csv_condensations(dataset)\n",
    "\n",
    "\n",
    "# def flagser_count(dataset_name, complex_dim=2, num_threads=4):\n",
    "#     dataset_digraph = create_digraph_from_dataset(dataset_name)\n",
    "\n",
    "#     sparse_adjacency_matrix = nx.to_scipy_sparse_array(dataset_digraph, format=\"csr\")\n",
    "\n",
    "#     start_time = time.time()\n",
    "\n",
    "#     X = pfc.flagser_count(\n",
    "#         sparse_adjacency_matrix,\n",
    "#         threads=num_threads,\n",
    "#         return_simplices=True,\n",
    "#         max_dim=complex_dim,\n",
    "#     )\n",
    "#     end_time = time.time()\n",
    "#     print(\"Time elapsed: \", end_time - start_time)\n",
    "#     return X\n",
    "\n",
    "\n",
    "# def create_digraph_from_dataset(dataset_name, dataset_dir=\"../dataset/\"):\n",
    "#     dataset, evaluator = get_dataset(dataset_name, dataset_dir)\n",
    "#     dataset_digraph = nx.DiGraph()\n",
    "#     dataset_digraph.add_edges_from(\n",
    "#         list(zip(dataset.edge_index[0].tolist(), dataset.edge_index[1].tolist()))\n",
    "#     )\n",
    "#     print(\"Number of nodes: \", dataset_digraph.number_of_nodes(), \" Number of edges: \", dataset_digraph.number_of_edges())\n",
    "#     return dataset_digraph\n",
    "\n",
    "\n",
    "# def create_flag_complex_from_dataset(dataset_name, dataset_dir, complex_dim=2):\n",
    "#     dataset_digraph = create_digraph_from_dataset(dataset_name, dataset_dir)\n",
    "#     flag_complex = dfc.DirectedFlagComplex(dataset_digraph, complex_dim)\n",
    "#     return flag_complex\n",
    "\n",
    "\n",
    "# def create_condensed_digraph_from_dataset(dataset_name):\n",
    "#     dataset_digraph = create_digraph_from_dataset(dataset_name)\n",
    "#     condensation_digraph = nx.condensation(dataset_digraph)\n",
    "#     return condensation_digraph\n",
    "\n",
    "\n",
    "# def dataset_stats(dataset_name, complex_dim=2):\n",
    "#     G = create_digraph_from_dataset(dataset_name)\n",
    "#     FlG = dfc.DirectedFlagComplex(G, complex_dim)\n",
    "#     for d in range(complex_dim + 1):\n",
    "#         print(dataset_name + \" number of \" + str(d) + \"-simplices\", len(FlG.complex[d]))\n",
    "#     return FlG\n",
    "\n",
    "\n",
    "# def qij(\n",
    "#     dataset_name, dataset_dir, q, i, j, complex_dim=2, chunk_size=1024, save_path=None\n",
    "# ):\n",
    "#     FlG = create_flag_complex_from_dataset(dataset_name, dataset_dir, complex_dim)\n",
    "#     return FlG.qij(q, i, j, chunk_size, save_path)\n",
    "\n",
    "\n",
    "# if __name__ == \"__main__\":\n",
    "#     DATASET_DIR = \"../../dataset/\"\n",
    "#     qij(\n",
    "#         WISCONSIN,\n",
    "#         DATASET_DIR,\n",
    "#         1,\n",
    "#         0,\n",
    "#         2,\n",
    "#         complex_dim=2,\n",
    "#         chunk_size=100,\n",
    "#         # save_path=\"../../dataset/cornell/102.pt\",\n",
    "#         save_path=None\n",
    "#     )\n",
    "#     pass"
   ]
  },
  {
   "cell_type": "code",
   "execution_count": null,
   "metadata": {
    "collapsed": false
   },
   "outputs": [],
   "source": []
  }
 ],
 "metadata": {
  "kernelspec": {
   "display_name": "Python 3 (ipykernel)",
   "language": "python",
   "name": "python3"
  },
  "language_info": {
   "codemirror_mode": {
    "name": "ipython",
    "version": 3
   },
   "file_extension": ".py",
   "mimetype": "text/x-python",
   "name": "python",
   "nbconvert_exporter": "python",
   "pygments_lexer": "ipython3",
   "version": "3.10.13"
  }
 },
 "nbformat": 4,
 "nbformat_minor": 2
}
