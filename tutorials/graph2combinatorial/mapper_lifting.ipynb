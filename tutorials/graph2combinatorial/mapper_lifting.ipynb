{
 "cells": [
  {
   "cell_type": "markdown",
   "id": "6da220ee-dd34-4380-9c78-0f2a9e610b1f",
   "metadata": {},
   "source": [
    "## Mapper Lifting Tutorial.\n",
    "Based on [this paper](https://arxiv.org/pdf/2206.00606)."
   ]
  },
  {
   "cell_type": "code",
   "execution_count": null,
   "id": "5e0e787d-c2e7-4933-be4d-c422c981ab95",
   "metadata": {},
   "outputs": [],
   "source": []
  }
 ],
 "metadata": {
  "kernelspec": {
   "display_name": "Python 3 (ipykernel)",
   "language": "python",
   "name": "python3"
  },
  "language_info": {
   "codemirror_mode": {
    "name": "ipython",
    "version": 3
   },
   "file_extension": ".py",
   "mimetype": "text/x-python",
   "name": "python",
   "nbconvert_exporter": "python",
   "pygments_lexer": "ipython3",
   "version": "3.9.5"
  }
 },
 "nbformat": 4,
 "nbformat_minor": 5
}
