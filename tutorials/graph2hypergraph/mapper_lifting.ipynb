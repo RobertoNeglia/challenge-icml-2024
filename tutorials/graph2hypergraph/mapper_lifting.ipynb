{
 "cells": [
  {
   "cell_type": "markdown",
   "id": "6da220ee-dd34-4380-9c78-0f2a9e610b1f",
   "metadata": {},
   "source": [
    "## Mapper Lifting Tutorial.\n",
    "Based on [this paper](https://arxiv.org/pdf/2206.00606). See [Figure 30](https://arxiv.org/pdf/2206.00606) description.\n",
    "\n",
    "1. Begin with graph $X$ and function $g\\colon X^0\\to [a,b]$.\n",
    "2. Cover codomain with $\\mathcal{U}$. (`gtda.mapper.cover.CubicalCover`)<-- Marissa will handwrite (Halley is compromised)\n",
    "3. Pullback $g^{-1}(\\mathcal{U})$ and this covers $X$. (see 4.)\n",
    "4. Perform a \"clustering\" where clusters are determined by connected componenets in each pullback sets $g^{-1}(U_\\alpha)$ (`toponetx.algorithms.components.connected_compoenents`)\n",
    "5. This is the hypergraph and we can color via the function $g$ (`toponetx.classes.colored_hypergraph.ColoredHypergraph`)\n",
    "\n",
    "6. (**optional**) Take nerve and construct $k$-mapper for simplicial complex. "
   ]
  },
  {
   "cell_type": "markdown",
   "id": "404710c4-0de7-4fee-9e58-d811314887a9",
   "metadata": {},
   "source": [
    "- For weighted graphs we could do the \"clustering\" on the pullback via a thresholding on the on the weights on the original graph edges. (Can make parameter and use DBSCAN for this case or something)."
   ]
  },
  {
   "cell_type": "code",
   "execution_count": null,
   "id": "28298ec9-957c-4e9a-8923-67726e597e42",
   "metadata": {},
   "outputs": [],
   "source": []
  },
  {
   "cell_type": "markdown",
   "id": "7e325d28-dad7-41ae-8706-5e5c5dae225c",
   "metadata": {},
   "source": [
    "**Filter**\n",
    "- Could construct colored hypergraph where the coloring is based on the filter $g$.\n",
    "- For graph `torch_geometric.data.Data` have the user choose filter function. Default should be PCA on `torch_geometric.data.Data.pos`. Use can input their own filter function just check that transform is quantitative. If function is on edges, user may have to specify \"filter type\": (Node, Edge) or position. Filters we construct \"in house\" should just be some projection function (see `gtda.mapper.filter.Projection`).\n",
    "- If projection is to some node or edge attribute have the user have attr: str as the parameter. Function will check if that is a node or edge attr. Maybe add extra arg to specify (default: None) or in {node, edge,pos, None} to specify attribute dictionary we should filter from.\n",
    "- Filter Idea: If there is no features on the data and it is just a graph. Take graph distance for each node to random node in the graph. There is also the spectral distance (smallest nonzero eigenvector of graph laplacian and projects each node corresponding to that eigenvector) and can capture circle data in the graph. Default filter (no atts) can be spectral projection."
   ]
  },
  {
   "cell_type": "code",
   "execution_count": null,
   "id": "f3ccc397-ca12-4186-ac47-80ca63c824ec",
   "metadata": {},
   "outputs": [],
   "source": []
  },
  {
   "cell_type": "markdown",
   "id": "73dc0594-61cb-4ffd-8483-47582d2044bf",
   "metadata": {},
   "source": [
    "**Cover**\n",
    "- Parameters `resolution`: number of intervals to cover codomain in (int: default 10)\n",
    "- `gain`: percentage overlap for each neighboring interval in the cover (float: 0.3)\n",
    "- fit method. This should take input data (filtered data) and produce intervals for each cover set in codomain. Could have atts: `.cover_sets` which is array of shape (n_intervals, 2)\n",
    "- transform_method. This should take `.cover_sets` and produce mask (n_samples, n_cover sets) to describe which cover sets contain each data point.\n",
    "\n",
    "*Completed 6/24/2024*"
   ]
  },
  {
   "cell_type": "markdown",
   "id": "935813e3-c42e-46d0-9d32-383e630cbf32",
   "metadata": {},
   "source": [
    "**Hypergraph**\n",
    "- This is the output.\n",
    "- Transform the mask given by the cover and convert it correctly into a hypergraph colored by the filter function."
   ]
  },
  {
   "cell_type": "markdown",
   "id": "74e53caf-ac10-4f50-8836-6d857848820f",
   "metadata": {},
   "source": [
    "**Clustering**\n",
    "\n",
    "* Connected components of the graph  (Default)\n",
    "* Torch.geometric subgraph functions (take a cover set, construct it as a subgraph, use nx.get_connected_components to get a mask on the original graph)\n",
    "* "
   ]
  },
  {
   "cell_type": "markdown",
   "id": "e75c233a-c713-4a29-9fff-7831a7cb4290",
   "metadata": {},
   "source": [
    "### To-do's \n",
    "\n",
    "Marissa to do: Make tutorial \n",
    "\n",
    "Halley to do: Make test file? \n",
    "\n",
    "`dataset_name = \"manual_dataset\"` \n",
    "\n",
    "` dataset_config = load_dataset_config(dataset_name)`\n",
    "\n",
    "` loader = GraphLoader(dataset_config)`\n"
   ]
  },
  {
   "cell_type": "code",
   "execution_count": null,
   "id": "e1795e5d-1f57-4692-a332-ddbfe61ee127",
   "metadata": {},
   "outputs": [],
   "source": []
  }
 ],
 "metadata": {
  "kernelspec": {
   "display_name": "ICML",
   "language": "python",
   "name": "icml"
  },
  "language_info": {
   "codemirror_mode": {
    "name": "ipython",
    "version": 3
   },
   "file_extension": ".py",
   "mimetype": "text/x-python",
   "name": "python",
   "nbconvert_exporter": "python",
   "pygments_lexer": "ipython3",
   "version": "3.10.12"
  }
 },
 "nbformat": 4,
 "nbformat_minor": 5
}
